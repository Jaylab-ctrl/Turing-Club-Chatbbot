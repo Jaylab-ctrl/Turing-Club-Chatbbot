{
  "nbformat": 4,
  "nbformat_minor": 0,
  "metadata": {
    "colab": {
      "name": "TuringChatbot.ipynb",
      "provenance": [],
      "collapsed_sections": []
    },
    "kernelspec": {
      "name": "python3",
      "display_name": "Python 3"
    },
    "language_info": {
      "name": "python"
    }
  },
  "cells": [
    {
      "cell_type": "code",
      "execution_count": 1,
      "metadata": {
        "id": "dpxfT2VRPJNq",
        "colab": {
          "base_uri": "https://localhost:8080/"
        },
        "outputId": "4a2e1637-0f7a-4cba-e84a-7d28362eeac8"
      },
      "outputs": [
        {
          "output_type": "stream",
          "name": "stdout",
          "text": [
            "[nltk_data] Downloading package punkt to /root/nltk_data...\n",
            "[nltk_data]   Package punkt is already up-to-date!\n",
            "[nltk_data] Downloading package wordnet to /root/nltk_data...\n",
            "[nltk_data]   Package wordnet is already up-to-date!\n"
          ]
        }
      ],
      "source": [
        "import random\n",
        "import json\n",
        "import pickle\n",
        "import numpy as np\n",
        "import nltk\n",
        "nltk.download('punkt')\n",
        "nltk.download('wordnet')\n",
        "from nltk.stem import WordNetLemmatizer\n",
        "from tensorflow.keras.models import load_model"
      ]
    },
    {
      "cell_type": "code",
      "source": [
        "lemmatizer = WordNetLemmatizer()"
      ],
      "metadata": {
        "id": "opHvcSSmPoYE"
      },
      "execution_count": 2,
      "outputs": []
    },
    {
      "cell_type": "code",
      "source": [
        "intents = json.loads(open(\"intents.json\").read())"
      ],
      "metadata": {
        "id": "Lai5aOahPobN"
      },
      "execution_count": 3,
      "outputs": []
    },
    {
      "cell_type": "code",
      "source": [
        "words = pickle.load(open(\"words.pkl\", \"rb\"))\n",
        "classes = pickle.load(open(\"classes.pkl\", \"rb\"))\n",
        "model = load_model(\"chatbot_model.h5\")"
      ],
      "metadata": {
        "id": "grEvwkntPx1a"
      },
      "execution_count": 4,
      "outputs": []
    },
    {
      "cell_type": "code",
      "source": [
        "def cleanup(sentence):\n",
        "  sentenceWords = nltk.word_tokenize(sentence)\n",
        "  sentenceWords = [lemmatizer.lemmatize(word.lower()) for word in sentenceWords]\n",
        "  return sentenceWords"
      ],
      "metadata": {
        "id": "VBr0LGN_QKXi"
      },
      "execution_count": 5,
      "outputs": []
    },
    {
      "cell_type": "code",
      "source": [
        "def bagOfWords(sentence):\n",
        "  sentenceWords = cleanup(sentence)\n",
        "  bag = [0] * len(words)\n",
        "  for w in sentenceWords:\n",
        "    for i, word in enumerate(words):\n",
        "      if word == w:\n",
        "        bag[i] = 1\n",
        "\n",
        "  return np.array(bag)"
      ],
      "metadata": {
        "id": "5zi5y5loQKb1"
      },
      "execution_count": 6,
      "outputs": []
    },
    {
      "cell_type": "code",
      "source": [
        "def predict(sentence):\n",
        "  bow = bagOfWords(sentence)\n",
        "  res = model.predict(np.array([bow]))[0]\n",
        "  ERROR_THRESHOLD = 0.25\n",
        "  results = [[i, r] for i , r in enumerate(res) if r > ERROR_THRESHOLD]\n",
        "\n",
        "  results.sort(key = lambda x : x[1], reverse = True)\n",
        "  returnList = []\n",
        "  for r in results:\n",
        "    returnList.append({'intent': classes[r[0]], 'probability': str(r[1])})\n",
        "  return returnList   "
      ],
      "metadata": {
        "id": "Lac7nQYmS8mA"
      },
      "execution_count": 7,
      "outputs": []
    },
    {
      "cell_type": "code",
      "source": [
        "def getResponse(intentsList, intentsjson):\n",
        "  tag = intentsList[0]['intent']\n",
        "  listOfIntents = intentsjson['intents']\n",
        "  for i in listOfIntents:\n",
        "    if i[\"tag\"] == tag:\n",
        "      result = random.choice(i[\"responses\"])\n",
        "      break\n",
        "  return result "
      ],
      "metadata": {
        "id": "-LFZws_WVaUI"
      },
      "execution_count": 8,
      "outputs": []
    },
    {
      "cell_type": "code",
      "source": [
        "print(\"Bot is running\")\n",
        "\n",
        "while True:\n",
        "  message = input(\"\")\n",
        "  if message == 'thanks':\n",
        "    break\n",
        "\n",
        "  ints = predict(message)\n",
        "  res = getResponse(ints, intents)\n",
        "  print(res)"
      ],
      "metadata": {
        "id": "tnFCrdFvWWaB",
        "colab": {
          "base_uri": "https://localhost:8080/"
        },
        "outputId": "153615fb-da96-4e5e-ae71-a457cfe63c2e"
      },
      "execution_count": 11,
      "outputs": [
        {
          "name": "stdout",
          "output_type": "stream",
          "text": [
            "Bot is running\n",
            "greetings\n",
            "Hey!I am Alan, your virtual assistant\n",
            "how are you\n",
            "Hey!I am Alan, your virtual assistant\n",
            "thanks\n"
          ]
        }
      ]
    }
  ]
}