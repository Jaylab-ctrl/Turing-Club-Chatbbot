{
  "nbformat": 4,
  "nbformat_minor": 0,
  "metadata": {
    "colab": {
      "name": "TuringTraining.ipynb",
      "provenance": [],
      "collapsed_sections": []
    },
    "kernelspec": {
      "name": "python3",
      "display_name": "Python 3"
    },
    "language_info": {
      "name": "python"
    }
  },
  "cells": [
    {
      "cell_type": "code",
      "source": [
        "import random\n",
        "import json\n",
        "import pickle\n",
        "import numpy as np\n",
        "import nltk\n",
        "nltk.download('punkt')\n",
        "nltk.download('wordnet')\n",
        "from nltk.stem import WordNetLemmatizer\n",
        "from tensorflow.keras.models import Sequential\n",
        "from tensorflow.keras.layers import Dense, Activation, Dropout\n",
        "from tensorflow.keras.optimizers import SGD"
      ],
      "metadata": {
        "id": "7HoEuRPvsrYH",
        "colab": {
          "base_uri": "https://localhost:8080/"
        },
        "outputId": "2dfe2e93-dfde-4ef2-e327-8fab46dca2c2"
      },
      "execution_count": 1,
      "outputs": [
        {
          "output_type": "stream",
          "name": "stdout",
          "text": [
            "[nltk_data] Downloading package punkt to /root/nltk_data...\n",
            "[nltk_data]   Package punkt is already up-to-date!\n",
            "[nltk_data] Downloading package wordnet to /root/nltk_data...\n",
            "[nltk_data]   Package wordnet is already up-to-date!\n"
          ]
        }
      ]
    },
    {
      "cell_type": "code",
      "source": [
        "lemmatizer = WordNetLemmatizer()"
      ],
      "metadata": {
        "id": "pPoswLB6t96X"
      },
      "execution_count": 2,
      "outputs": []
    },
    {
      "cell_type": "code",
      "source": [
        "intents = json.loads(open(\"intents.json\").read())"
      ],
      "metadata": {
        "id": "P1MLr-_It-D_"
      },
      "execution_count": 3,
      "outputs": []
    },
    {
      "cell_type": "code",
      "source": [
        "words = []\n",
        "classes = []\n",
        "documents = []\n",
        "ignoreLetters = [\"?\", \"!\", \",\", \".\"] "
      ],
      "metadata": {
        "id": "I-KjDlHtu-kZ"
      },
      "execution_count": 4,
      "outputs": []
    },
    {
      "cell_type": "code",
      "source": [
        "for intent in intents['intents']:\n",
        "  for pattern in intent['patterns']:\n",
        "    wordList = nltk.word_tokenize(pattern)\n",
        "    words.extend(wordList)\n",
        "    documents.append((wordList, intent['tag']))\n",
        "    if intent['tag'] not in classes:\n",
        "      classes.append(intent['tag'])"
      ],
      "metadata": {
        "id": "FWOOdocTu-oj"
      },
      "execution_count": 5,
      "outputs": []
    },
    {
      "cell_type": "code",
      "source": [
        "words = [lemmatizer.lemmatize(word) for word in words if word not in ignoreLetters]"
      ],
      "metadata": {
        "id": "nMB66tVExc3Z"
      },
      "execution_count": 6,
      "outputs": []
    },
    {
      "cell_type": "code",
      "source": [
        "words = sorted(set(words))\n",
        "classes = sorted(set(classes))"
      ],
      "metadata": {
        "id": "n5EdB8HVxc_G"
      },
      "execution_count": 7,
      "outputs": []
    },
    {
      "cell_type": "code",
      "source": [
        "pickle.dump(words, open(\"words.pkl\", \"wb\"))\n",
        "pickle.dump(classes, open(\"classes.pkl\", \"wb\"))"
      ],
      "metadata": {
        "id": "yh1_BzAbyH7X"
      },
      "execution_count": 8,
      "outputs": []
    },
    {
      "cell_type": "code",
      "source": [
        "training = [] "
      ],
      "metadata": {
        "id": "Y3-hJM4W0gQa"
      },
      "execution_count": 9,
      "outputs": []
    },
    {
      "cell_type": "code",
      "source": [
        "opempty = [0] * len(classes)"
      ],
      "metadata": {
        "id": "9dhoquX40gTl"
      },
      "execution_count": 10,
      "outputs": []
    },
    {
      "cell_type": "code",
      "source": [
        "for documents in documents:\n",
        "  bag = []\n",
        "  wordPatterns = documents[0]\n",
        "  wordPatterns = [lemmatizer.lemmatize(word.lower()) for word in wordPatterns]\n",
        "  for word in words: \n",
        "    bag.append(1) if word in wordPatterns else bag.append(0)\n",
        "\n",
        "  oprow = list(opempty)\n",
        "  oprow[classes.index(documents[1])] = 1\n",
        "  training.append([bag, oprow])  "
      ],
      "metadata": {
        "id": "QHCxehfa0gWr"
      },
      "execution_count": 11,
      "outputs": []
    },
    {
      "cell_type": "code",
      "source": [
        "random.shuffle(training)"
      ],
      "metadata": {
        "id": "WVDSnfTR5eH7"
      },
      "execution_count": 12,
      "outputs": []
    },
    {
      "cell_type": "code",
      "source": [
        "training = np.array(training)"
      ],
      "metadata": {
        "id": "VK4F-t_25hbu",
        "colab": {
          "base_uri": "https://localhost:8080/"
        },
        "outputId": "dcf468c3-5c6f-4513-ac8d-568329c2ed81"
      },
      "execution_count": 13,
      "outputs": [
        {
          "output_type": "stream",
          "name": "stderr",
          "text": [
            "/usr/local/lib/python3.7/dist-packages/ipykernel_launcher.py:1: VisibleDeprecationWarning: Creating an ndarray from ragged nested sequences (which is a list-or-tuple of lists-or-tuples-or ndarrays with different lengths or shapes) is deprecated. If you meant to do this, you must specify 'dtype=object' when creating the ndarray\n",
            "  \"\"\"Entry point for launching an IPython kernel.\n"
          ]
        }
      ]
    },
    {
      "cell_type": "code",
      "source": [
        "X_train = list(training[:, 0])\n",
        "y_train = list(training[:, 1])"
      ],
      "metadata": {
        "id": "XiNLxjuw5m3q"
      },
      "execution_count": 14,
      "outputs": []
    },
    {
      "cell_type": "code",
      "source": [
        "model = Sequential()\n",
        "model.add(Dense(128, input_shape = (len(X_train[0]),), activation = \"relu\"))\n",
        "model.add(Dropout(0.5))\n",
        "model.add(Dense(64, activation = \"relu\"))\n",
        "model.add(Dropout(0.5))\n",
        "model.add(Dense(len(y_train[0]), activation = \"softmax\"))"
      ],
      "metadata": {
        "id": "0IKVLUEg57o5"
      },
      "execution_count": 15,
      "outputs": []
    },
    {
      "cell_type": "code",
      "source": [
        "sgd = SGD(learning_rate = 0.01, decay = 1e-6, momentum = 0.9, nesterov = True)\n",
        "model.compile(loss = 'categorical_crossentropy', optimizer = sgd, metrics = ['accuracy'])"
      ],
      "metadata": {
        "id": "W0Nt8e1p9jwF"
      },
      "execution_count": 16,
      "outputs": []
    },
    {
      "cell_type": "code",
      "source": [
        "ist = model.fit(np.array(X_train), np.array(y_train), epochs = 200, batch_size = 5, verbose = 1)"
      ],
      "metadata": {
        "id": "wTCb7C459j5D",
        "colab": {
          "base_uri": "https://localhost:8080/"
        },
        "outputId": "65ebb691-2a71-456a-eb21-e221f8faf0fe"
      },
      "execution_count": 17,
      "outputs": [
        {
          "output_type": "stream",
          "name": "stdout",
          "text": [
            "Epoch 1/200\n",
            "1/1 [==============================] - 1s 1s/step - loss: 0.0000e+00 - accuracy: 1.0000\n",
            "Epoch 2/200\n",
            "1/1 [==============================] - 0s 12ms/step - loss: 0.0000e+00 - accuracy: 1.0000\n",
            "Epoch 3/200\n",
            "1/1 [==============================] - 0s 13ms/step - loss: 0.0000e+00 - accuracy: 1.0000\n",
            "Epoch 4/200\n",
            "1/1 [==============================] - 0s 12ms/step - loss: 0.0000e+00 - accuracy: 1.0000\n",
            "Epoch 5/200\n",
            "1/1 [==============================] - 0s 13ms/step - loss: 0.0000e+00 - accuracy: 1.0000\n",
            "Epoch 6/200\n",
            "1/1 [==============================] - 0s 18ms/step - loss: 0.0000e+00 - accuracy: 1.0000\n",
            "Epoch 7/200\n",
            "1/1 [==============================] - 0s 12ms/step - loss: 0.0000e+00 - accuracy: 1.0000\n",
            "Epoch 8/200\n",
            "1/1 [==============================] - 0s 6ms/step - loss: 0.0000e+00 - accuracy: 1.0000\n",
            "Epoch 9/200\n",
            "1/1 [==============================] - 0s 7ms/step - loss: 0.0000e+00 - accuracy: 1.0000\n",
            "Epoch 10/200\n",
            "1/1 [==============================] - 0s 7ms/step - loss: 0.0000e+00 - accuracy: 1.0000\n",
            "Epoch 11/200\n",
            "1/1 [==============================] - 0s 5ms/step - loss: 0.0000e+00 - accuracy: 1.0000\n",
            "Epoch 12/200\n",
            "1/1 [==============================] - 0s 9ms/step - loss: 0.0000e+00 - accuracy: 1.0000\n",
            "Epoch 13/200\n",
            "1/1 [==============================] - 0s 21ms/step - loss: 0.0000e+00 - accuracy: 1.0000\n",
            "Epoch 14/200\n",
            "1/1 [==============================] - 0s 39ms/step - loss: 0.0000e+00 - accuracy: 1.0000\n",
            "Epoch 15/200\n",
            "1/1 [==============================] - 0s 23ms/step - loss: 0.0000e+00 - accuracy: 1.0000\n",
            "Epoch 16/200\n",
            "1/1 [==============================] - 0s 39ms/step - loss: 0.0000e+00 - accuracy: 1.0000\n",
            "Epoch 17/200\n",
            "1/1 [==============================] - 0s 18ms/step - loss: 0.0000e+00 - accuracy: 1.0000\n",
            "Epoch 18/200\n",
            "1/1 [==============================] - 0s 18ms/step - loss: 0.0000e+00 - accuracy: 1.0000\n",
            "Epoch 19/200\n",
            "1/1 [==============================] - 0s 11ms/step - loss: 0.0000e+00 - accuracy: 1.0000\n",
            "Epoch 20/200\n",
            "1/1 [==============================] - 0s 22ms/step - loss: 0.0000e+00 - accuracy: 1.0000\n",
            "Epoch 21/200\n",
            "1/1 [==============================] - 0s 18ms/step - loss: 0.0000e+00 - accuracy: 1.0000\n",
            "Epoch 22/200\n",
            "1/1 [==============================] - 0s 25ms/step - loss: 0.0000e+00 - accuracy: 1.0000\n",
            "Epoch 23/200\n",
            "1/1 [==============================] - 0s 10ms/step - loss: 0.0000e+00 - accuracy: 1.0000\n",
            "Epoch 24/200\n",
            "1/1 [==============================] - 0s 14ms/step - loss: 0.0000e+00 - accuracy: 1.0000\n",
            "Epoch 25/200\n",
            "1/1 [==============================] - 0s 6ms/step - loss: 0.0000e+00 - accuracy: 1.0000\n",
            "Epoch 26/200\n",
            "1/1 [==============================] - 0s 13ms/step - loss: 0.0000e+00 - accuracy: 1.0000\n",
            "Epoch 27/200\n",
            "1/1 [==============================] - 0s 20ms/step - loss: 0.0000e+00 - accuracy: 1.0000\n",
            "Epoch 28/200\n",
            "1/1 [==============================] - 0s 10ms/step - loss: 0.0000e+00 - accuracy: 1.0000\n",
            "Epoch 29/200\n",
            "1/1 [==============================] - 0s 38ms/step - loss: 0.0000e+00 - accuracy: 1.0000\n",
            "Epoch 30/200\n",
            "1/1 [==============================] - 0s 23ms/step - loss: 0.0000e+00 - accuracy: 1.0000\n",
            "Epoch 31/200\n",
            "1/1 [==============================] - 0s 17ms/step - loss: 0.0000e+00 - accuracy: 1.0000\n",
            "Epoch 32/200\n",
            "1/1 [==============================] - 0s 24ms/step - loss: 0.0000e+00 - accuracy: 1.0000\n",
            "Epoch 33/200\n",
            "1/1 [==============================] - 0s 10ms/step - loss: 0.0000e+00 - accuracy: 1.0000\n",
            "Epoch 34/200\n",
            "1/1 [==============================] - 0s 20ms/step - loss: 0.0000e+00 - accuracy: 1.0000\n",
            "Epoch 35/200\n",
            "1/1 [==============================] - 0s 6ms/step - loss: 0.0000e+00 - accuracy: 1.0000\n",
            "Epoch 36/200\n",
            "1/1 [==============================] - 0s 16ms/step - loss: 0.0000e+00 - accuracy: 1.0000\n",
            "Epoch 37/200\n",
            "1/1 [==============================] - 0s 9ms/step - loss: 0.0000e+00 - accuracy: 1.0000\n",
            "Epoch 38/200\n",
            "1/1 [==============================] - 0s 21ms/step - loss: 0.0000e+00 - accuracy: 1.0000\n",
            "Epoch 39/200\n",
            "1/1 [==============================] - 0s 14ms/step - loss: 0.0000e+00 - accuracy: 1.0000\n",
            "Epoch 40/200\n",
            "1/1 [==============================] - 0s 14ms/step - loss: 0.0000e+00 - accuracy: 1.0000\n",
            "Epoch 41/200\n",
            "1/1 [==============================] - 0s 40ms/step - loss: 0.0000e+00 - accuracy: 1.0000\n",
            "Epoch 42/200\n",
            "1/1 [==============================] - 0s 24ms/step - loss: 0.0000e+00 - accuracy: 1.0000\n",
            "Epoch 43/200\n",
            "1/1 [==============================] - 0s 9ms/step - loss: 0.0000e+00 - accuracy: 1.0000\n",
            "Epoch 44/200\n",
            "1/1 [==============================] - 0s 7ms/step - loss: 0.0000e+00 - accuracy: 1.0000\n",
            "Epoch 45/200\n",
            "1/1 [==============================] - 0s 13ms/step - loss: 0.0000e+00 - accuracy: 1.0000\n",
            "Epoch 46/200\n",
            "1/1 [==============================] - 0s 12ms/step - loss: 0.0000e+00 - accuracy: 1.0000\n",
            "Epoch 47/200\n",
            "1/1 [==============================] - 0s 13ms/step - loss: 0.0000e+00 - accuracy: 1.0000\n",
            "Epoch 48/200\n",
            "1/1 [==============================] - 0s 13ms/step - loss: 0.0000e+00 - accuracy: 1.0000\n",
            "Epoch 49/200\n",
            "1/1 [==============================] - 0s 17ms/step - loss: 0.0000e+00 - accuracy: 1.0000\n",
            "Epoch 50/200\n",
            "1/1 [==============================] - 0s 25ms/step - loss: 0.0000e+00 - accuracy: 1.0000\n",
            "Epoch 51/200\n",
            "1/1 [==============================] - 0s 6ms/step - loss: 0.0000e+00 - accuracy: 1.0000\n",
            "Epoch 52/200\n",
            "1/1 [==============================] - 0s 17ms/step - loss: 0.0000e+00 - accuracy: 1.0000\n",
            "Epoch 53/200\n",
            "1/1 [==============================] - 0s 9ms/step - loss: 0.0000e+00 - accuracy: 1.0000\n",
            "Epoch 54/200\n",
            "1/1 [==============================] - 0s 8ms/step - loss: 0.0000e+00 - accuracy: 1.0000\n",
            "Epoch 55/200\n",
            "1/1 [==============================] - 0s 10ms/step - loss: 0.0000e+00 - accuracy: 1.0000\n",
            "Epoch 56/200\n",
            "1/1 [==============================] - 0s 9ms/step - loss: 0.0000e+00 - accuracy: 1.0000\n",
            "Epoch 57/200\n",
            "1/1 [==============================] - 0s 10ms/step - loss: 0.0000e+00 - accuracy: 1.0000\n",
            "Epoch 58/200\n",
            "1/1 [==============================] - 0s 9ms/step - loss: 0.0000e+00 - accuracy: 1.0000\n",
            "Epoch 59/200\n",
            "1/1 [==============================] - 0s 24ms/step - loss: 0.0000e+00 - accuracy: 1.0000\n",
            "Epoch 60/200\n",
            "1/1 [==============================] - 0s 7ms/step - loss: 0.0000e+00 - accuracy: 1.0000\n",
            "Epoch 61/200\n",
            "1/1 [==============================] - 0s 12ms/step - loss: 0.0000e+00 - accuracy: 1.0000\n",
            "Epoch 62/200\n",
            "1/1 [==============================] - 0s 12ms/step - loss: 0.0000e+00 - accuracy: 1.0000\n",
            "Epoch 63/200\n",
            "1/1 [==============================] - 0s 35ms/step - loss: 0.0000e+00 - accuracy: 1.0000\n",
            "Epoch 64/200\n",
            "1/1 [==============================] - 0s 5ms/step - loss: 0.0000e+00 - accuracy: 1.0000\n",
            "Epoch 65/200\n",
            "1/1 [==============================] - 0s 13ms/step - loss: 0.0000e+00 - accuracy: 1.0000\n",
            "Epoch 66/200\n",
            "1/1 [==============================] - 0s 6ms/step - loss: 0.0000e+00 - accuracy: 1.0000\n",
            "Epoch 67/200\n",
            "1/1 [==============================] - 0s 7ms/step - loss: 0.0000e+00 - accuracy: 1.0000\n",
            "Epoch 68/200\n",
            "1/1 [==============================] - 0s 7ms/step - loss: 0.0000e+00 - accuracy: 1.0000\n",
            "Epoch 69/200\n",
            "1/1 [==============================] - 0s 7ms/step - loss: 0.0000e+00 - accuracy: 1.0000\n",
            "Epoch 70/200\n",
            "1/1 [==============================] - 0s 8ms/step - loss: 0.0000e+00 - accuracy: 1.0000\n",
            "Epoch 71/200\n",
            "1/1 [==============================] - 0s 7ms/step - loss: 0.0000e+00 - accuracy: 1.0000\n",
            "Epoch 72/200\n",
            "1/1 [==============================] - 0s 7ms/step - loss: 0.0000e+00 - accuracy: 1.0000\n",
            "Epoch 73/200\n",
            "1/1 [==============================] - 0s 12ms/step - loss: 0.0000e+00 - accuracy: 1.0000\n",
            "Epoch 74/200\n",
            "1/1 [==============================] - 0s 17ms/step - loss: 0.0000e+00 - accuracy: 1.0000\n",
            "Epoch 75/200\n",
            "1/1 [==============================] - 0s 12ms/step - loss: 0.0000e+00 - accuracy: 1.0000\n",
            "Epoch 76/200\n",
            "1/1 [==============================] - 0s 11ms/step - loss: 0.0000e+00 - accuracy: 1.0000\n",
            "Epoch 77/200\n",
            "1/1 [==============================] - 0s 13ms/step - loss: 0.0000e+00 - accuracy: 1.0000\n",
            "Epoch 78/200\n",
            "1/1 [==============================] - 0s 11ms/step - loss: 0.0000e+00 - accuracy: 1.0000\n",
            "Epoch 79/200\n",
            "1/1 [==============================] - 0s 14ms/step - loss: 0.0000e+00 - accuracy: 1.0000\n",
            "Epoch 80/200\n",
            "1/1 [==============================] - 0s 14ms/step - loss: 0.0000e+00 - accuracy: 1.0000\n",
            "Epoch 81/200\n",
            "1/1 [==============================] - 0s 7ms/step - loss: 0.0000e+00 - accuracy: 1.0000\n",
            "Epoch 82/200\n",
            "1/1 [==============================] - 0s 13ms/step - loss: 0.0000e+00 - accuracy: 1.0000\n",
            "Epoch 83/200\n",
            "1/1 [==============================] - 0s 17ms/step - loss: 0.0000e+00 - accuracy: 1.0000\n",
            "Epoch 84/200\n",
            "1/1 [==============================] - 0s 13ms/step - loss: 0.0000e+00 - accuracy: 1.0000\n",
            "Epoch 85/200\n",
            "1/1 [==============================] - 0s 7ms/step - loss: 0.0000e+00 - accuracy: 1.0000\n",
            "Epoch 86/200\n",
            "1/1 [==============================] - 0s 10ms/step - loss: 0.0000e+00 - accuracy: 1.0000\n",
            "Epoch 87/200\n",
            "1/1 [==============================] - 0s 7ms/step - loss: 0.0000e+00 - accuracy: 1.0000\n",
            "Epoch 88/200\n",
            "1/1 [==============================] - 0s 10ms/step - loss: 0.0000e+00 - accuracy: 1.0000\n",
            "Epoch 89/200\n",
            "1/1 [==============================] - 0s 11ms/step - loss: 0.0000e+00 - accuracy: 1.0000\n",
            "Epoch 90/200\n",
            "1/1 [==============================] - 0s 7ms/step - loss: 0.0000e+00 - accuracy: 1.0000\n",
            "Epoch 91/200\n",
            "1/1 [==============================] - 0s 12ms/step - loss: 0.0000e+00 - accuracy: 1.0000\n",
            "Epoch 92/200\n",
            "1/1 [==============================] - 0s 11ms/step - loss: 0.0000e+00 - accuracy: 1.0000\n",
            "Epoch 93/200\n",
            "1/1 [==============================] - 0s 9ms/step - loss: 0.0000e+00 - accuracy: 1.0000\n",
            "Epoch 94/200\n",
            "1/1 [==============================] - 0s 9ms/step - loss: 0.0000e+00 - accuracy: 1.0000\n",
            "Epoch 95/200\n",
            "1/1 [==============================] - 0s 12ms/step - loss: 0.0000e+00 - accuracy: 1.0000\n",
            "Epoch 96/200\n",
            "1/1 [==============================] - 0s 14ms/step - loss: 0.0000e+00 - accuracy: 1.0000\n",
            "Epoch 97/200\n",
            "1/1 [==============================] - 0s 8ms/step - loss: 0.0000e+00 - accuracy: 1.0000\n",
            "Epoch 98/200\n",
            "1/1 [==============================] - 0s 13ms/step - loss: 0.0000e+00 - accuracy: 1.0000\n",
            "Epoch 99/200\n",
            "1/1 [==============================] - 0s 7ms/step - loss: 0.0000e+00 - accuracy: 1.0000\n",
            "Epoch 100/200\n",
            "1/1 [==============================] - 0s 30ms/step - loss: 0.0000e+00 - accuracy: 1.0000\n",
            "Epoch 101/200\n",
            "1/1 [==============================] - 0s 6ms/step - loss: 0.0000e+00 - accuracy: 1.0000\n",
            "Epoch 102/200\n",
            "1/1 [==============================] - 0s 6ms/step - loss: 0.0000e+00 - accuracy: 1.0000\n",
            "Epoch 103/200\n",
            "1/1 [==============================] - 0s 10ms/step - loss: 0.0000e+00 - accuracy: 1.0000\n",
            "Epoch 104/200\n",
            "1/1 [==============================] - 0s 6ms/step - loss: 0.0000e+00 - accuracy: 1.0000\n",
            "Epoch 105/200\n",
            "1/1 [==============================] - 0s 30ms/step - loss: 0.0000e+00 - accuracy: 1.0000\n",
            "Epoch 106/200\n",
            "1/1 [==============================] - 0s 9ms/step - loss: 0.0000e+00 - accuracy: 1.0000\n",
            "Epoch 107/200\n",
            "1/1 [==============================] - 0s 17ms/step - loss: 0.0000e+00 - accuracy: 1.0000\n",
            "Epoch 108/200\n",
            "1/1 [==============================] - 0s 11ms/step - loss: 0.0000e+00 - accuracy: 1.0000\n",
            "Epoch 109/200\n",
            "1/1 [==============================] - 0s 11ms/step - loss: 0.0000e+00 - accuracy: 1.0000\n",
            "Epoch 110/200\n",
            "1/1 [==============================] - 0s 33ms/step - loss: 0.0000e+00 - accuracy: 1.0000\n",
            "Epoch 111/200\n",
            "1/1 [==============================] - 0s 8ms/step - loss: 0.0000e+00 - accuracy: 1.0000\n",
            "Epoch 112/200\n",
            "1/1 [==============================] - 0s 33ms/step - loss: 0.0000e+00 - accuracy: 1.0000\n",
            "Epoch 113/200\n",
            "1/1 [==============================] - 0s 14ms/step - loss: 0.0000e+00 - accuracy: 1.0000\n",
            "Epoch 114/200\n",
            "1/1 [==============================] - 0s 15ms/step - loss: 0.0000e+00 - accuracy: 1.0000\n",
            "Epoch 115/200\n",
            "1/1 [==============================] - 0s 12ms/step - loss: 0.0000e+00 - accuracy: 1.0000\n",
            "Epoch 116/200\n",
            "1/1 [==============================] - 0s 10ms/step - loss: 0.0000e+00 - accuracy: 1.0000\n",
            "Epoch 117/200\n",
            "1/1 [==============================] - 0s 28ms/step - loss: 0.0000e+00 - accuracy: 1.0000\n",
            "Epoch 118/200\n",
            "1/1 [==============================] - 0s 16ms/step - loss: 0.0000e+00 - accuracy: 1.0000\n",
            "Epoch 119/200\n",
            "1/1 [==============================] - 0s 15ms/step - loss: 0.0000e+00 - accuracy: 1.0000\n",
            "Epoch 120/200\n",
            "1/1 [==============================] - 0s 5ms/step - loss: 0.0000e+00 - accuracy: 1.0000\n",
            "Epoch 121/200\n",
            "1/1 [==============================] - 0s 11ms/step - loss: 0.0000e+00 - accuracy: 1.0000\n",
            "Epoch 122/200\n",
            "1/1 [==============================] - 0s 16ms/step - loss: 0.0000e+00 - accuracy: 1.0000\n",
            "Epoch 123/200\n",
            "1/1 [==============================] - 0s 9ms/step - loss: 0.0000e+00 - accuracy: 1.0000\n",
            "Epoch 124/200\n",
            "1/1 [==============================] - 0s 8ms/step - loss: 0.0000e+00 - accuracy: 1.0000\n",
            "Epoch 125/200\n",
            "1/1 [==============================] - 0s 15ms/step - loss: 0.0000e+00 - accuracy: 1.0000\n",
            "Epoch 126/200\n",
            "1/1 [==============================] - 0s 20ms/step - loss: 0.0000e+00 - accuracy: 1.0000\n",
            "Epoch 127/200\n",
            "1/1 [==============================] - 0s 11ms/step - loss: 0.0000e+00 - accuracy: 1.0000\n",
            "Epoch 128/200\n",
            "1/1 [==============================] - 0s 11ms/step - loss: 0.0000e+00 - accuracy: 1.0000\n",
            "Epoch 129/200\n",
            "1/1 [==============================] - 0s 13ms/step - loss: 0.0000e+00 - accuracy: 1.0000\n",
            "Epoch 130/200\n",
            "1/1 [==============================] - 0s 9ms/step - loss: 0.0000e+00 - accuracy: 1.0000\n",
            "Epoch 131/200\n",
            "1/1 [==============================] - 0s 14ms/step - loss: 0.0000e+00 - accuracy: 1.0000\n",
            "Epoch 132/200\n",
            "1/1 [==============================] - 0s 5ms/step - loss: 0.0000e+00 - accuracy: 1.0000\n",
            "Epoch 133/200\n",
            "1/1 [==============================] - 0s 12ms/step - loss: 0.0000e+00 - accuracy: 1.0000\n",
            "Epoch 134/200\n",
            "1/1 [==============================] - 0s 27ms/step - loss: 0.0000e+00 - accuracy: 1.0000\n",
            "Epoch 135/200\n",
            "1/1 [==============================] - 0s 9ms/step - loss: 0.0000e+00 - accuracy: 1.0000\n",
            "Epoch 136/200\n",
            "1/1 [==============================] - 0s 9ms/step - loss: 0.0000e+00 - accuracy: 1.0000\n",
            "Epoch 137/200\n",
            "1/1 [==============================] - 0s 9ms/step - loss: 0.0000e+00 - accuracy: 1.0000\n",
            "Epoch 138/200\n",
            "1/1 [==============================] - 0s 9ms/step - loss: 0.0000e+00 - accuracy: 1.0000\n",
            "Epoch 139/200\n",
            "1/1 [==============================] - 0s 7ms/step - loss: 0.0000e+00 - accuracy: 1.0000\n",
            "Epoch 140/200\n",
            "1/1 [==============================] - 0s 11ms/step - loss: 0.0000e+00 - accuracy: 1.0000\n",
            "Epoch 141/200\n",
            "1/1 [==============================] - 0s 5ms/step - loss: 0.0000e+00 - accuracy: 1.0000\n",
            "Epoch 142/200\n",
            "1/1 [==============================] - 0s 8ms/step - loss: 0.0000e+00 - accuracy: 1.0000\n",
            "Epoch 143/200\n",
            "1/1 [==============================] - 0s 8ms/step - loss: 0.0000e+00 - accuracy: 1.0000\n",
            "Epoch 144/200\n",
            "1/1 [==============================] - 0s 8ms/step - loss: 0.0000e+00 - accuracy: 1.0000\n",
            "Epoch 145/200\n",
            "1/1 [==============================] - 0s 13ms/step - loss: 0.0000e+00 - accuracy: 1.0000\n",
            "Epoch 146/200\n",
            "1/1 [==============================] - 0s 9ms/step - loss: 0.0000e+00 - accuracy: 1.0000\n",
            "Epoch 147/200\n",
            "1/1 [==============================] - 0s 11ms/step - loss: 0.0000e+00 - accuracy: 1.0000\n",
            "Epoch 148/200\n",
            "1/1 [==============================] - 0s 7ms/step - loss: 0.0000e+00 - accuracy: 1.0000\n",
            "Epoch 149/200\n",
            "1/1 [==============================] - 0s 8ms/step - loss: 0.0000e+00 - accuracy: 1.0000\n",
            "Epoch 150/200\n",
            "1/1 [==============================] - 0s 5ms/step - loss: 0.0000e+00 - accuracy: 1.0000\n",
            "Epoch 151/200\n",
            "1/1 [==============================] - 0s 8ms/step - loss: 0.0000e+00 - accuracy: 1.0000\n",
            "Epoch 152/200\n",
            "1/1 [==============================] - 0s 7ms/step - loss: 0.0000e+00 - accuracy: 1.0000\n",
            "Epoch 153/200\n",
            "1/1 [==============================] - 0s 8ms/step - loss: 0.0000e+00 - accuracy: 1.0000\n",
            "Epoch 154/200\n",
            "1/1 [==============================] - 0s 5ms/step - loss: 0.0000e+00 - accuracy: 1.0000\n",
            "Epoch 155/200\n",
            "1/1 [==============================] - 0s 8ms/step - loss: 0.0000e+00 - accuracy: 1.0000\n",
            "Epoch 156/200\n",
            "1/1 [==============================] - 0s 6ms/step - loss: 0.0000e+00 - accuracy: 1.0000\n",
            "Epoch 157/200\n",
            "1/1 [==============================] - 0s 8ms/step - loss: 0.0000e+00 - accuracy: 1.0000\n",
            "Epoch 158/200\n",
            "1/1 [==============================] - 0s 9ms/step - loss: 0.0000e+00 - accuracy: 1.0000\n",
            "Epoch 159/200\n",
            "1/1 [==============================] - 0s 12ms/step - loss: 0.0000e+00 - accuracy: 1.0000\n",
            "Epoch 160/200\n",
            "1/1 [==============================] - 0s 6ms/step - loss: 0.0000e+00 - accuracy: 1.0000\n",
            "Epoch 161/200\n",
            "1/1 [==============================] - 0s 10ms/step - loss: 0.0000e+00 - accuracy: 1.0000\n",
            "Epoch 162/200\n",
            "1/1 [==============================] - 0s 5ms/step - loss: 0.0000e+00 - accuracy: 1.0000\n",
            "Epoch 163/200\n",
            "1/1 [==============================] - 0s 10ms/step - loss: 0.0000e+00 - accuracy: 1.0000\n",
            "Epoch 164/200\n",
            "1/1 [==============================] - 0s 7ms/step - loss: 0.0000e+00 - accuracy: 1.0000\n",
            "Epoch 165/200\n",
            "1/1 [==============================] - 0s 6ms/step - loss: 0.0000e+00 - accuracy: 1.0000\n",
            "Epoch 166/200\n",
            "1/1 [==============================] - 0s 8ms/step - loss: 0.0000e+00 - accuracy: 1.0000\n",
            "Epoch 167/200\n",
            "1/1 [==============================] - 0s 10ms/step - loss: 0.0000e+00 - accuracy: 1.0000\n",
            "Epoch 168/200\n",
            "1/1 [==============================] - 0s 10ms/step - loss: 0.0000e+00 - accuracy: 1.0000\n",
            "Epoch 169/200\n",
            "1/1 [==============================] - 0s 10ms/step - loss: 0.0000e+00 - accuracy: 1.0000\n",
            "Epoch 170/200\n",
            "1/1 [==============================] - 0s 15ms/step - loss: 0.0000e+00 - accuracy: 1.0000\n",
            "Epoch 171/200\n",
            "1/1 [==============================] - 0s 8ms/step - loss: 0.0000e+00 - accuracy: 1.0000\n",
            "Epoch 172/200\n",
            "1/1 [==============================] - 0s 9ms/step - loss: 0.0000e+00 - accuracy: 1.0000\n",
            "Epoch 173/200\n",
            "1/1 [==============================] - 0s 18ms/step - loss: 0.0000e+00 - accuracy: 1.0000\n",
            "Epoch 174/200\n",
            "1/1 [==============================] - 0s 11ms/step - loss: 0.0000e+00 - accuracy: 1.0000\n",
            "Epoch 175/200\n",
            "1/1 [==============================] - 0s 17ms/step - loss: 0.0000e+00 - accuracy: 1.0000\n",
            "Epoch 176/200\n",
            "1/1 [==============================] - 0s 16ms/step - loss: 0.0000e+00 - accuracy: 1.0000\n",
            "Epoch 177/200\n",
            "1/1 [==============================] - 0s 15ms/step - loss: 0.0000e+00 - accuracy: 1.0000\n",
            "Epoch 178/200\n",
            "1/1 [==============================] - 0s 13ms/step - loss: 0.0000e+00 - accuracy: 1.0000\n",
            "Epoch 179/200\n",
            "1/1 [==============================] - 0s 30ms/step - loss: 0.0000e+00 - accuracy: 1.0000\n",
            "Epoch 180/200\n",
            "1/1 [==============================] - 0s 18ms/step - loss: 0.0000e+00 - accuracy: 1.0000\n",
            "Epoch 181/200\n",
            "1/1 [==============================] - 0s 14ms/step - loss: 0.0000e+00 - accuracy: 1.0000\n",
            "Epoch 182/200\n",
            "1/1 [==============================] - 0s 14ms/step - loss: 0.0000e+00 - accuracy: 1.0000\n",
            "Epoch 183/200\n",
            "1/1 [==============================] - 0s 18ms/step - loss: 0.0000e+00 - accuracy: 1.0000\n",
            "Epoch 184/200\n",
            "1/1 [==============================] - 0s 21ms/step - loss: 0.0000e+00 - accuracy: 1.0000\n",
            "Epoch 185/200\n",
            "1/1 [==============================] - 0s 11ms/step - loss: 0.0000e+00 - accuracy: 1.0000\n",
            "Epoch 186/200\n",
            "1/1 [==============================] - 0s 13ms/step - loss: 0.0000e+00 - accuracy: 1.0000\n",
            "Epoch 187/200\n",
            "1/1 [==============================] - 0s 7ms/step - loss: 0.0000e+00 - accuracy: 1.0000\n",
            "Epoch 188/200\n",
            "1/1 [==============================] - 0s 7ms/step - loss: 0.0000e+00 - accuracy: 1.0000\n",
            "Epoch 189/200\n",
            "1/1 [==============================] - 0s 6ms/step - loss: 0.0000e+00 - accuracy: 1.0000\n",
            "Epoch 190/200\n",
            "1/1 [==============================] - 0s 7ms/step - loss: 0.0000e+00 - accuracy: 1.0000\n",
            "Epoch 191/200\n",
            "1/1 [==============================] - 0s 12ms/step - loss: 0.0000e+00 - accuracy: 1.0000\n",
            "Epoch 192/200\n",
            "1/1 [==============================] - 0s 18ms/step - loss: 0.0000e+00 - accuracy: 1.0000\n",
            "Epoch 193/200\n",
            "1/1 [==============================] - 0s 13ms/step - loss: 0.0000e+00 - accuracy: 1.0000\n",
            "Epoch 194/200\n",
            "1/1 [==============================] - 0s 9ms/step - loss: 0.0000e+00 - accuracy: 1.0000\n",
            "Epoch 195/200\n",
            "1/1 [==============================] - 0s 14ms/step - loss: 0.0000e+00 - accuracy: 1.0000\n",
            "Epoch 196/200\n",
            "1/1 [==============================] - 0s 12ms/step - loss: 0.0000e+00 - accuracy: 1.0000\n",
            "Epoch 197/200\n",
            "1/1 [==============================] - 0s 6ms/step - loss: 0.0000e+00 - accuracy: 1.0000\n",
            "Epoch 198/200\n",
            "1/1 [==============================] - 0s 6ms/step - loss: 0.0000e+00 - accuracy: 1.0000\n",
            "Epoch 199/200\n",
            "1/1 [==============================] - 0s 7ms/step - loss: 0.0000e+00 - accuracy: 1.0000\n",
            "Epoch 200/200\n",
            "1/1 [==============================] - 0s 6ms/step - loss: 0.0000e+00 - accuracy: 1.0000\n"
          ]
        }
      ]
    },
    {
      "cell_type": "code",
      "source": [
        "model.save(\"chatbot_model.h5\", ist)\n",
        "print(\"Done\")"
      ],
      "metadata": {
        "id": "UOKGuJA5-mMW",
        "colab": {
          "base_uri": "https://localhost:8080/"
        },
        "outputId": "700d6ffe-8193-49b6-a578-a8961dfbba40"
      },
      "execution_count": 18,
      "outputs": [
        {
          "output_type": "stream",
          "name": "stdout",
          "text": [
            "Done\n"
          ]
        }
      ]
    }
  ]
}